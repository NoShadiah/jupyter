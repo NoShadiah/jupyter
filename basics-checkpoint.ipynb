{
 "cells": [
  {
   "cell_type": "code",
   "execution_count": 1,
   "metadata": {},
   "outputs": [
    {
     "name": "stdout",
     "output_type": "stream",
     "text": [
      "2435\n"
     ]
    }
   ],
   "source": [
    "x=2435\n",
    "print(x)"
   ]
  },
  {
   "cell_type": "code",
   "execution_count": 3,
   "id": "4159ed29",
   "metadata": {},
   "outputs": [
    {
     "name": "stdout",
     "output_type": "stream",
     "text": [
      "ArithmeticError and AssertionError\n"
     ]
    }
   ],
   "source": [
    "x=\"ArithmeticError\"\n",
    "y=\"AssertionError\"\n",
    "print(x+\" and \"+y)"
   ]
  },
  {
   "cell_type": "code",
   "execution_count": null,
   "id": "df707324",
   "metadata": {},
   "outputs": [],
   "source": []
  }
 ],
 "metadata": {
  "kernelspec": {
   "display_name": "Python 3.10.5 64-bit",
   "language": "python",
   "name": "python3"
  },
  "language_info": {
   "codemirror_mode": {
    "name": "ipython",
    "version": 3
   },
   "file_extension": ".py",
   "mimetype": "text/x-python",
   "name": "python",
   "nbconvert_exporter": "python",
   "pygments_lexer": "ipython3",
   "version": "3.10.5"
  },
  "vscode": {
   "interpreter": {
    "hash": "2e4e8601bcc6fcc80f16339b9fa957331c45cf5a5623c5e73ba85ea6c698829e"
   }
  }
 },
 "nbformat": 4,
 "nbformat_minor": 5
}
